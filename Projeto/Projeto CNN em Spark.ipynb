{
 "cells": [
  {
   "cell_type": "markdown",
   "metadata": {},
   "source": [
    "# Implementando uma Rede Neural Convolucional utilizando Spark para reconhecimento de digitos\n",
    "\n",
    "A biblioteca *scikit-learn* possui internamente um dataset composto por 1.797 imagens de digitos dos números 0 à 9 com tamanho de 8x8."
   ]
  },
  {
   "cell_type": "code",
   "execution_count": 1,
   "metadata": {},
   "outputs": [
    {
     "name": "stdout",
     "output_type": "stream",
     "text": [
      "Tamanho das imagens (1797, 64)\n",
      "Rótulos das imagens (1797,)\n"
     ]
    }
   ],
   "source": [
    "from sklearn.datasets import load_digits\n",
    "digits = load_digits()\n",
    "\n",
    "print(\"Tamanho das imagens\", digits.data.shape)\n",
    "print(\"Rótulos das imagens\", digits.target.shape)"
   ]
  },
  {
   "cell_type": "code",
   "execution_count": 2,
   "metadata": {},
   "outputs": [
    {
     "data": {
      "image/png": "[encoded data removed]",
      "text/plain": [
       "<matplotlib.figure.Figure at 0x114fddb00>"
      ]
     },
     "metadata": {},
     "output_type": "display_data"
    },
    {
     "data": {
      "image/png": "[encoded data removed]",
      "text/plain": [
       "<matplotlib.figure.Figure at 0x114fddba8>"
      ]
     },
     "metadata": {},
     "output_type": "display_data"
    }
   ],
   "source": [
    "import numpy as np \n",
    "import matplotlib.pyplot as plt\n",
    "\n",
    "plt.figure(figsize=(20,4))\n",
    "for index, (image, label) in enumerate(zip(digits.data[0:5], digits.target[0:5])):\n",
    "  plt.subplot(1, 5, index + 1)\n",
    "  plt.imshow(np.reshape(image, (8,8)), cmap=plt.cm.gray)\n",
    "  plt.title('Digito: %i\\n' % label, fontsize = 20)\n",
    "plt.show()\n",
    "\n",
    "plt.figure(figsize=(20,4))\n",
    "for index, (image, label) in enumerate(zip(digits.data[5:10], digits.target[5:10])):\n",
    "  plt.subplot(1, 5, index + 1)\n",
    "  plt.imshow(np.reshape(image, (8,8)), cmap=plt.cm.gray)\n",
    "  plt.title('Digito: %i\\n' % label, fontsize = 20)\n",
    "plt.show()"
   ]
  },
  {
   "cell_type": "markdown",
   "metadata": {},
   "source": [
    "## Representação dos dados\n",
    "\n",
    "Um dígito é representado por um vetor de 64 posições:"
   ]
  },
  {
   "cell_type": "code",
   "execution_count": 3,
   "metadata": {},
   "outputs": [
    {
     "name": "stdout",
     "output_type": "stream",
     "text": [
      "[  0.   0.   5.  13.   9.   1.   0.   0.   0.   0.  13.  15.  10.  15.   5.\n",
      "   0.   0.   3.  15.   2.   0.  11.   8.   0.   0.   4.  12.   0.   0.   8.\n",
      "   8.   0.   0.   5.   8.   0.   0.   9.   8.   0.   0.   4.  11.   0.   1.\n",
      "  12.   7.   0.   0.   2.  14.   5.  10.  12.   0.   0.   0.   0.   6.  13.\n",
      "  10.   0.   0.   0.]\n"
     ]
    }
   ],
   "source": [
    "print(digits.data[0])"
   ]
  },
  {
   "cell_type": "markdown",
   "metadata": {},
   "source": [
    "Que também pode ser representado como uma matriz de dimensão 8x8:"
   ]
  },
  {
   "cell_type": "code",
   "execution_count": 4,
   "metadata": {},
   "outputs": [
    {
     "name": "stdout",
     "output_type": "stream",
     "text": [
      "[[  0.   0.   5.  13.   9.   1.   0.   0.]\n",
      " [  0.   0.  13.  15.  10.  15.   5.   0.]\n",
      " [  0.   3.  15.   2.   0.  11.   8.   0.]\n",
      " [  0.   4.  12.   0.   0.   8.   8.   0.]\n",
      " [  0.   5.   8.   0.   0.   9.   8.   0.]\n",
      " [  0.   4.  11.   0.   1.  12.   7.   0.]\n",
      " [  0.   2.  14.   5.  10.  12.   0.   0.]\n",
      " [  0.   0.   6.  13.  10.   0.   0.   0.]]\n"
     ]
    }
   ],
   "source": [
    "print(np.reshape(digits.data[0], (8, 8)))"
   ]
  },
  {
   "cell_type": "markdown",
   "metadata": {},
   "source": [
    "# Rede Neural Convolucional\n",
    "\n",
    "A Rede Neural Convolucional (do inglês Convolutional Neural Network - CNN) vem ganhando destaque na classificação de imagens. A figura a seguir apresenta um exemplo de arquitetura de CNN:\n",
    "\n",
    "![Uso da CNN para reconhecimento de digitos](http://parse.ele.tue.nl/cluster/2/CNNArchitecture.jpg)\n",
    "**Fonte:** Parallel Architecture Research Eindhoven (http://parse.ele.tue.nl/education/cluster2)\n",
    "\n",
    "O diferencial das CNNs está na camada de convolucional, que aplica a Convolução nos dados de entrada, passa os dados para realizar o Agrupamento (pooling) e sua saída é passada para a próxima camada convolucional até chegar na última camada conhecida como Camada Densa que é normalmente uma MultiLayer Perceptron (MLP).\n",
    "\n",
    "![Estrutura da CNN](imagens/EstruturaCNN.png)"
   ]
  },
  {
   "cell_type": "markdown",
   "metadata": {},
   "source": [
    "# Realizando a convolução"
   ]
  },
  {
   "cell_type": "code",
   "execution_count": 5,
   "metadata": {},
   "outputs": [
    {
     "name": "stdout",
     "output_type": "stream",
     "text": [
      "(0, array([[[  0.,   0.,   5.],\n",
      "        [  0.,   0.,  13.],\n",
      "        [  0.,   3.,  15.]],\n",
      "\n",
      "       [[  0.,   5.,  13.],\n",
      "        [  0.,  13.,  15.],\n",
      "        [  3.,  15.,   2.]],\n",
      "\n",
      "       [[  5.,  13.,   9.],\n",
      "        [ 13.,  15.,  10.],\n",
      "        [ 15.,   2.,   0.]],\n",
      "\n",
      "       [[ 13.,   9.,   1.],\n",
      "        [ 15.,  10.,  15.],\n",
      "        [  2.,   0.,  11.]],\n",
      "\n",
      "       [[  9.,   1.,   0.],\n",
      "        [ 10.,  15.,   5.],\n",
      "        [  0.,  11.,   8.]],\n",
      "\n",
      "       [[  0.,   0.,  13.],\n",
      "        [  0.,   3.,  15.],\n",
      "        [  0.,   4.,  12.]],\n",
      "\n",
      "       [[  0.,  13.,  15.],\n",
      "        [  3.,  15.,   2.],\n",
      "        [  4.,  12.,   0.]],\n",
      "\n",
      "       [[ 13.,  15.,  10.],\n",
      "        [ 15.,   2.,   0.],\n",
      "        [ 12.,   0.,   0.]],\n",
      "\n",
      "       [[ 15.,  10.,  15.],\n",
      "        [  2.,   0.,  11.],\n",
      "        [  0.,   0.,   8.]],\n",
      "\n",
      "       [[ 10.,  15.,   5.],\n",
      "        [  0.,  11.,   8.],\n",
      "        [  0.,   8.,   8.]],\n",
      "\n",
      "       [[  0.,   3.,  15.],\n",
      "        [  0.,   4.,  12.],\n",
      "        [  0.,   5.,   8.]],\n",
      "\n",
      "       [[  3.,  15.,   2.],\n",
      "        [  4.,  12.,   0.],\n",
      "        [  5.,   8.,   0.]],\n",
      "\n",
      "       [[ 15.,   2.,   0.],\n",
      "        [ 12.,   0.,   0.],\n",
      "        [  8.,   0.,   0.]],\n",
      "\n",
      "       [[  2.,   0.,  11.],\n",
      "        [  0.,   0.,   8.],\n",
      "        [  0.,   0.,   9.]],\n",
      "\n",
      "       [[  0.,  11.,   8.],\n",
      "        [  0.,   8.,   8.],\n",
      "        [  0.,   9.,   8.]],\n",
      "\n",
      "       [[  0.,   4.,  12.],\n",
      "        [  0.,   5.,   8.],\n",
      "        [  0.,   4.,  11.]],\n",
      "\n",
      "       [[  4.,  12.,   0.],\n",
      "        [  5.,   8.,   0.],\n",
      "        [  4.,  11.,   0.]],\n",
      "\n",
      "       [[ 12.,   0.,   0.],\n",
      "        [  8.,   0.,   0.],\n",
      "        [ 11.,   0.,   1.]],\n",
      "\n",
      "       [[  0.,   0.,   8.],\n",
      "        [  0.,   0.,   9.],\n",
      "        [  0.,   1.,  12.]],\n",
      "\n",
      "       [[  0.,   8.,   8.],\n",
      "        [  0.,   9.,   8.],\n",
      "        [  1.,  12.,   7.]],\n",
      "\n",
      "       [[  0.,   5.,   8.],\n",
      "        [  0.,   4.,  11.],\n",
      "        [  0.,   2.,  14.]],\n",
      "\n",
      "       [[  5.,   8.,   0.],\n",
      "        [  4.,  11.,   0.],\n",
      "        [  2.,  14.,   5.]],\n",
      "\n",
      "       [[  8.,   0.,   0.],\n",
      "        [ 11.,   0.,   1.],\n",
      "        [ 14.,   5.,  10.]],\n",
      "\n",
      "       [[  0.,   0.,   9.],\n",
      "        [  0.,   1.,  12.],\n",
      "        [  5.,  10.,  12.]],\n",
      "\n",
      "       [[  0.,   9.,   8.],\n",
      "        [  1.,  12.,   7.],\n",
      "        [ 10.,  12.,   0.]]]))\n"
     ]
    }
   ],
   "source": [
    "en = 8 # tamanho da dimensão da entrada\n",
    "kn = 3 # tamanho da dimensão do kernel\n",
    "k = 10 # quantidade de kernels\n",
    "qtdMatrizes = (en - kn) ** 2\n",
    "kernels = np.random.randn(k, kn, kn)\n",
    "\n",
    "# partesDigito = []\n",
    "# for i in range(0, en - kn):\n",
    "#     for j in range(0, en - kn):\n",
    "#         partesDigito.append(digits.data[0].reshape(en, en)[i:i+kn, j:j+kn])\n",
    "# #         print(i, j)\n",
    "# #         print(digits.data[0].reshape(en, en)[i:i+kn, j:j+kn])\n",
    "# print(len(partesDigito))\n",
    "# print(partesDigito)\n",
    "\n",
    "def partes(x):\n",
    "    partesDigito = []\n",
    "    entrada = np.zeros(((en - kn) ** 2, kn, kn))\n",
    "    X = x.reshape(en, en) # Muda a entrada vetorial para matriz\n",
    "    for ki in range(0, k): # Para cada kernel separa a entrada em partes\n",
    "        index = 0;\n",
    "        for i in range(0, en - kn): \n",
    "            for j in range(0, en - kn):\n",
    "                entrada[index] = X[i:i+kn, j:j+kn] # Cada parte é uma submatriz da entrada\n",
    "                index += 1\n",
    "        partesDigito.append((ki, entrada)) # Para cada kernel gera varias partes da entrada\n",
    "    return partesDigito\n",
    "\n",
    "partesDigito = partes(digits.data[0])\n",
    "print(partesDigito[0])"
   ]
  },
  {
   "cell_type": "code",
   "execution_count": 6,
   "metadata": {},
   "outputs": [
    {
     "name": "stdout",
     "output_type": "stream",
     "text": [
      "Número zero\n"
     ]
    },
    {
     "data": {
      "image/png": "[encoded data removed]",
      "text/plain": [
       "<matplotlib.figure.Figure at 0x117e00630>"
      ]
     },
     "metadata": {},
     "output_type": "display_data"
    },
    {
     "name": "stdout",
     "output_type": "stream",
     "text": [
      "Número zero dividido de acordo com o tamanho do kernel\n"
     ]
    },
    {
     "data": {
      "image/png": "[encoded data removed]",
      "text/plain": [
       "<matplotlib.figure.Figure at 0x117ee3d68>"
      ]
     },
     "metadata": {},
     "output_type": "display_data"
    },
    {
     "data": {
      "image/png": "[encoded data removed]",
      "text/plain": [
       "<matplotlib.figure.Figure at 0x117ee36d8>"
      ]
     },
     "metadata": {},
     "output_type": "display_data"
    },
    {
     "name": "stdout",
     "output_type": "stream",
     "text": [
      "25\n"
     ]
    }
   ],
   "source": [
    "print(\"Número zero\")\n",
    "plt.figure(figsize=(20,4))\n",
    "for index, (image, label) in enumerate(zip(digits.data[0:1], digits.target[0:5])):\n",
    "  plt.subplot(1, 1, index + 1)\n",
    "  plt.imshow(np.reshape(image, (8,8)), cmap=plt.cm.gray)\n",
    "plt.show()\n",
    "\n",
    "print(\"Número zero dividido de acordo com o tamanho do kernel\")\n",
    "plt.figure(figsize=(20, 4)) \n",
    "for index, image in enumerate(partesDigito[0][1][0:12]):\n",
    "  plt.subplot(1, 13, index + 1)\n",
    "  plt.imshow(image, cmap=plt.cm.gray)\n",
    "plt.show()\n",
    "\n",
    "plt.figure(figsize=(20, 4)) \n",
    "for index, image in enumerate(partesDigito[0][1][12:25]):\n",
    "  plt.subplot(1, 13, index + 1)\n",
    "  plt.imshow(image, cmap=plt.cm.gray)\n",
    "plt.show()\n",
    "\n",
    "print(len(partesDigito[0][1]))"
   ]
  },
  {
   "cell_type": "markdown",
   "metadata": {},
   "source": [
    "# Gerando o mapa de ativações"
   ]
  },
  {
   "cell_type": "code",
   "execution_count": 7,
   "metadata": {},
   "outputs": [
    {
     "name": "stdout",
     "output_type": "stream",
     "text": [
      "Mapa de ativações de um kernel\n",
      "[[  9.79123430e-01   3.98440408e-16   1.06785417e-20   2.44482017e-07\n",
      "    1.04392527e-17   2.20553622e-06]\n",
      " [  1.30063984e-17   1.51176672e-15   3.98948989e-05   6.29156374e-03\n",
      "    6.20521047e-08   3.47936030e-07]\n",
      " [  3.27202704e-14   6.02493140e-05   1.25433770e-02   3.44935484e-06\n",
      "    1.21171982e-06   1.34079521e-14]\n",
      " [  6.44354794e-02   3.90109002e-07   7.16495613e-01   2.44562868e-10\n",
      "    3.93009197e-16   2.72583595e-08]\n",
      " [  0.00000000e+00   0.00000000e+00   0.00000000e+00   0.00000000e+00\n",
      "    0.00000000e+00   0.00000000e+00]\n",
      " [  0.00000000e+00   0.00000000e+00   0.00000000e+00   0.00000000e+00\n",
      "    0.00000000e+00   0.00000000e+00]]\n"
     ]
    }
   ],
   "source": [
    "import math\n",
    "\n",
    "def sigmoid(x):\n",
    "  return 1 / (1 + math.exp(-x))\n",
    "\n",
    "# t representa a dimensão de um mapa de ativação\n",
    "t = en - kn + 1\n",
    "\n",
    "# Aplica a função de ativação no resultado da multiplicação do kernel pela entrada\n",
    "# Recebe como entrada o kernel e uma matriz com as partes da entrada\n",
    "def ativacao(k, x):\n",
    "    mapa = np.zeros((t, t)) #Mapa de ativações de um kernel vazio\n",
    "    for i in range(0, len(x) - 1): #Para cada parte da matriz da entrada\n",
    "        mapa[int(i/t)][i%t] = sigmoid((x[i] * k).sum())\n",
    "    return mapa\n",
    "\n",
    "print(\"Mapa de ativações de um kernel\")\n",
    "print(ativacao(kernels[0], partesDigito[0][1]))\n",
    "\n",
    "# print(qtdMatrizes)\n",
    "# print(partesDigito[0])\n",
    "# print(len(partesDigito))\n",
    "# t = en - kn + 1\n",
    "# mapas = np.zeros((k, t, t))\n",
    "# for i in range(0, k):\n",
    "#     mapa = mapas[i]\n",
    "#     for j in range(0, qtdMatrizes - 1):\n",
    "#     #     print(int(i/t), i%t)\n",
    "#         mapa[int(j/t)][j%t] = sigmoid((partesDigito[j] * kernels[i]).sum())\n",
    "# print(mapas)"
   ]
  },
  {
   "cell_type": "code",
   "execution_count": 8,
   "metadata": {},
   "outputs": [
    {
     "name": "stdout",
     "output_type": "stream",
     "text": [
      "Mapas de ativações dos 10 kernels aplicados na entrada\n"
     ]
    },
    {
     "data": {
      "image/png": "[encoded data removed]",
      "text/plain": [
       "<matplotlib.figure.Figure at 0x114fd8898>"
      ]
     },
     "metadata": {},
     "output_type": "display_data"
    }
   ],
   "source": [
    "mapas = np.zeros((k, t, t))\n",
    "\n",
    "for i in range(0, k):\n",
    "    mapas[i] = ativacao(kernels[partesDigito[i][0]], partesDigito[i][1])\n",
    "\n",
    "print(\"Mapas de ativações dos 10 kernels aplicados na entrada\")\n",
    "plt.figure(figsize=(20, 4))\n",
    "for index, image in enumerate(mapas):\n",
    "  plt.subplot(1, len(mapas), index + 1)\n",
    "  plt.imshow(image, cmap=plt.cm.gray)\n",
    "plt.show()"
   ]
  },
  {
   "cell_type": "markdown",
   "metadata": {},
   "source": [
    "# Realizando o agrupamento com max pooling"
   ]
  },
  {
   "cell_type": "code",
   "execution_count": 9,
   "metadata": {},
   "outputs": [
    {
     "name": "stdout",
     "output_type": "stream",
     "text": [
      "[[  9.79123430e-01   6.29156374e-03   2.20553622e-06]\n",
      " [  6.44354794e-02   7.16495613e-01   1.21171982e-06]\n",
      " [  0.00000000e+00   0.00000000e+00   0.00000000e+00]]\n"
     ]
    }
   ],
   "source": [
    "pn = 2 # tamanho do pooling\n",
    "ps = 2 # tamanho do passo do pooling\n",
    "\n",
    "# Max Pooling\n",
    "def maxPooling(x):\n",
    "    agrupado = np.zeros((int(t / pn), int(t / pn)))\n",
    "    for i in range(0, int(t / pn)):\n",
    "        for j in range(0, int(t / pn)):\n",
    "            agrupado[i][j] = x[i * pn : i * pn + kn - 1, j * pn : j * pn + kn - 1].max()\n",
    "    return agrupado\n",
    "\n",
    "pooling = []\n",
    "for i in range(0, len(mapas)):\n",
    "    pooling.append(maxPooling(mapas[i]))\n",
    "    \n",
    "print(pooling[0])"
   ]
  },
  {
   "cell_type": "markdown",
   "metadata": {},
   "source": [
    "# Criando a camada densa com Multilayer Perceptron"
   ]
  },
  {
   "cell_type": "code",
   "execution_count": 10,
   "metadata": {},
   "outputs": [
    {
     "name": "stdout",
     "output_type": "stream",
     "text": [
      "[0, 0, 0, 4.3701665050961562, 0, 0, 0, 0.60245082809067663, 0, 0, 0.53936137771204695, 12.123892627075183, 5.0597520763051014, 0.27369392536098403, 0, 3.422379266592682, 2.3469559016028905, 0.97873657051551133, 7.7324271328553129, 3.2759378522349918, 2.6000096645266626, 3.6007522524434128, 0, 0, 0, 0, 1.4346841403270592, 0, 1.5324169541119275, 1.378371029334049, 0, 11.142221590259755, 6.5918443871797017, 0, 0, 0, 0, 0, 0.37532997646881272, 0, 2.4526739064332572, 2.9692356615887432, 0.6982483522414773, 1.1695875096513377, 0, 0, 0, 1.7735903055927464, 0, 0, 5.6680899516275787, 3.4132525268346612, 8.5553119395499113, 0, 0, 3.9782447858252392, 0.81613845606182212, 3.727326470346775, 0, 0, 0, 1.7425813090759279, 0, 0, 0, 0, 11.030676379704985, 1.5197188161663346, 7.9210980282255781, 0, 6.4840401213813266, 8.1830919183345063, 0, 0, 0, 5.7380291135098078, 0, 7.6907450104951138, 0, 0.36736327224652277, 0.13878636769635899, 3.90926051261878, 0, 0, 12.233622756093702, 8.5289374934347801, 0.62233906262415628, 0.48997189272927777, 0, 0.54504203418758745, 0.92106676094190298, 0, 0, 4.947342418562382, 1.1909579791507841, 2.8482571182408303, 0, 12.735820503700911, 3.8323855539377258, 2.4634624550847439]\n"
     ]
    }
   ],
   "source": [
    "# weights representa os pesos da camada densa (MLP), aqui ainda falta fazer o backpropagation para ajustar esses pesos.\n",
    "weights = np.random.randn(100, 90)\n",
    "\n",
    "# função de ativação RELU\n",
    "def relu(x):\n",
    "    return max(0, x)\n",
    "\n",
    "# Multilayer Perceptron\n",
    "def mlp(x):\n",
    "    # A saída é um vetor que será passado para a camada de saída.\n",
    "    saida = []\n",
    "    for w in weights:\n",
    "        saida.append(relu((w * x).sum()))\n",
    "    return saida\n",
    "\n",
    "print (mlp(np.asarray(pooling).ravel()))"
   ]
  },
  {
   "cell_type": "code",
   "execution_count": 11,
   "metadata": {},
   "outputs": [
    {
     "name": "stdout",
     "output_type": "stream",
     "text": [
      "[  3.66082504e-252   2.46136020e-096   2.84453882e-197   5.55449523e-273\n",
      "   2.17623650e-223   2.67780046e-118   8.59637277e-108   1.00000000e+000\n",
      "   2.25062876e-122   6.18347914e-027]\n"
     ]
    }
   ],
   "source": [
    "# weights representa os pesos da camada de saída, aqui ainda falta fazer o backpropagation para ajustar esses pesos.\n",
    "weightsOut = np.random.randn(10, 1)\n",
    "\n",
    "# função de ativação SoftMax\n",
    "def softmax(x):\n",
    "    e_x = np.exp(x - np.max(x))\n",
    "    return e_x / e_x.sum(axis=0)\n",
    "\n",
    "def out(x):\n",
    "    # A saída representa a probabilidade de cada número entre zero e nove.\n",
    "    saida = []\n",
    "    for i in range(0, len(weightsOut)):\n",
    "        saida.append((weightsOut[i] * x).sum())\n",
    "    return softmax(saida)\n",
    "\n",
    "x = mlp(np.asarray(pooling).ravel())\n",
    "print(out(x))"
   ]
  },
  {
   "cell_type": "markdown",
   "metadata": {},
   "source": [
    "# Montando a Rede Neural Convolucional com o MapReduce"
   ]
  },
  {
   "cell_type": "code",
   "execution_count": 12,
   "metadata": {},
   "outputs": [
    {
     "name": "stdout",
     "output_type": "stream",
     "text": [
      "[array([  1.90250994e-311,   7.05194135e-119,   1.29405017e-243,\n",
      "         0.00000000e+000,   6.88467242e-276,   5.08548021e-146,\n",
      "         4.89918937e-133,   1.00000000e+000,   4.67662984e-151,\n",
      "         4.08949892e-033])]\n",
      "Dado o digito fornecido na entrada, esta saída representa a probabilidade de ser cada um dos números entre zero e nove. TODO - Implementar o backprogation.\n"
     ]
    }
   ],
   "source": [
    "sc = SparkContext.getOrCreate()\n",
    "# Montando um RDD com todo dataset de digitos\n",
    "rdd = sc.parallelize(digits.data, 4)\n",
    "# print(rdd.take(1))\n",
    "\n",
    "# Cria uma matriz com os kernels (filtros) da primeira camada convolucional\n",
    "kernels1 = np.random.randn(k, kn, kn)\n",
    "\n",
    "print(rdd\n",
    "      # 1º convolucao\n",
    "      .map(lambda x: partes(x)) # Separa as 25 partes da imagem para cada um dos 10 kernels\n",
    "      .map(lambda x: list(map(lambda y: ativacao(kernels1[y[0]], y[1]), x))) # Gera o mapa de ativações de cada kernel\n",
    "      .map(lambda x: list(map(lambda y: maxPooling(y), x))) # Aplica o max pooling na primeira camada\n",
    "      # Camada Densa (MLP)\n",
    "      .map(lambda x: np.asarray(x).ravel()) # Converte a matriz de saída da camada convolucional para um vetor \n",
    "      .map(lambda x: mlp(x)) # Manda os dados da última camada convolucional agrupada para a camada Densa\n",
    "      .map(lambda x: out(x)) # Aplica o softmax e retorna os valores das probabilidades de cada número. \n",
    "      .take(1))\n",
    "\n",
    "print(\"Dado o digito fornecido na entrada, esta saída representa a probabilidade de ser cada um dos números entre zero e nove. TODO - Implementar o backprogation.\")\n",
    "# rdd = rdd.map(lambda x: partes(x)).map(lambda x: list(map(lambda y: ativacao(kernels1[y[0]], y[1]), x))).map(lambda x: list(map(lambda y: maxPooling(y), x))).map(lambda x: np.asarray(x).ravel()).map(lambda x: mlp(x))\n",
    "# print(rdd.take(1))"
   ]
  },
  {
   "cell_type": "code",
   "execution_count": null,
   "metadata": {
    "collapsed": true
   },
   "outputs": [],
   "source": []
  }
 ],
 "metadata": {
  "kernelspec": {
   "display_name": "Python 3",
   "language": "python",
   "name": "python3"
  },
  "language_info": {
   "codemirror_mode": {
    "name": "ipython",
    "version": 3
   },
   "file_extension": ".py",
   "mimetype": "text/x-python",
   "name": "python",
   "nbconvert_exporter": "python",
   "pygments_lexer": "ipython3",
   "version": "3.6.3"
  }
 },
 "nbformat": 4,
 "nbformat_minor": 2
}
