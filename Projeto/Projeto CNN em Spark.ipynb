{
 "cells": [
  {
   "cell_type": "markdown",
   "metadata": {},
   "source": [
    "# Implementando uma Rede Neural Convolucional utilizando Spark para reconhecimento de digitos\n",
    "\n",
    "A biblioteca *scikit-learn* possui internamente um dataset composto por 1.797 imagens de digitos dos números 0 à 9 com tamanho de 8x8."
   ]
  },
  {
   "cell_type": "code",
   "execution_count": 1,
   "metadata": {},
   "outputs": [
    {
     "name": "stdout",
     "output_type": "stream",
     "text": [
      "Tamanho das imagens (1797, 64)\n",
      "Rótulos das imagens (1797,)\n"
     ]
    }
   ],
   "source": [
    "from sklearn.datasets import load_digits\n",
    "digits = load_digits()\n",
    "\n",
    "print(\"Tamanho das imagens\", digits.data.shape)\n",
    "print(\"Rótulos das imagens\", digits.target.shape)"
   ]
  },
  {
   "cell_type": "code",
   "execution_count": 2,
   "metadata": {},
   "outputs": [
    {
     "data": {
      "image/png": "[encoded data removed]",
      "text/plain": [
       "<matplotlib.figure.Figure at 0x10a2c3908>"
      ]
     },
     "metadata": {},
     "output_type": "display_data"
    }
   ],
   "source": [
    "import numpy as np \n",
    "import matplotlib.pyplot as plt\n",
    "\n",
    "plt.figure(figsize=(20,4))\n",
    "for index, (image, label) in enumerate(zip(digits.data[0:5], digits.target[0:5])):\n",
    "  plt.subplot(1, 5, index + 1)\n",
    "  plt.imshow(np.reshape(image, (8,8)), cmap=plt.cm.gray)\n",
    "  plt.title('Training: %i\\n' % label, fontsize = 20)\n",
    "plt.show()"
   ]
  },
  {
   "cell_type": "markdown",
   "metadata": {},
   "source": [
    "## Representação dos dados\n",
    "\n",
    "Um dígito é representado por um vetor de 64 posições:"
   ]
  },
  {
   "cell_type": "code",
   "execution_count": 3,
   "metadata": {},
   "outputs": [
    {
     "name": "stdout",
     "output_type": "stream",
     "text": [
      "[  0.   0.   5.  13.   9.   1.   0.   0.   0.   0.  13.  15.  10.  15.   5.\n",
      "   0.   0.   3.  15.   2.   0.  11.   8.   0.   0.   4.  12.   0.   0.   8.\n",
      "   8.   0.   0.   5.   8.   0.   0.   9.   8.   0.   0.   4.  11.   0.   1.\n",
      "  12.   7.   0.   0.   2.  14.   5.  10.  12.   0.   0.   0.   0.   6.  13.\n",
      "  10.   0.   0.   0.]\n"
     ]
    }
   ],
   "source": [
    "print(digits.data[0])"
   ]
  },
  {
   "cell_type": "markdown",
   "metadata": {},
   "source": [
    "Que também pode ser representado como uma matriz de dimensão 8x8:"
   ]
  },
  {
   "cell_type": "code",
   "execution_count": 4,
   "metadata": {},
   "outputs": [
    {
     "name": "stdout",
     "output_type": "stream",
     "text": [
      "[[  0.   0.   5.  13.   9.   1.   0.   0.]\n",
      " [  0.   0.  13.  15.  10.  15.   5.   0.]\n",
      " [  0.   3.  15.   2.   0.  11.   8.   0.]\n",
      " [  0.   4.  12.   0.   0.   8.   8.   0.]\n",
      " [  0.   5.   8.   0.   0.   9.   8.   0.]\n",
      " [  0.   4.  11.   0.   1.  12.   7.   0.]\n",
      " [  0.   2.  14.   5.  10.  12.   0.   0.]\n",
      " [  0.   0.   6.  13.  10.   0.   0.   0.]]\n"
     ]
    }
   ],
   "source": [
    "print(np.reshape(digits.data[0], (8, 8)))"
   ]
  },
  {
   "cell_type": "markdown",
   "metadata": {},
   "source": [
    "# Rede Neural Convolucional\n",
    "\n",
    "A Rede Neural Convolucional (do inglês Convolutional Neural Network - CNN) vem ganhando destaque na classificação de imagens. A figura a seguir apresenta um exemplo de arquitetura de CNN:\n",
    "\n",
    "![Uso da CNN para reconhecimento de digitos](http://parse.ele.tue.nl/cluster/2/CNNArchitecture.jpg)\n",
    "**Fonte:** Parallel Architecture Research Eindhoven (http://parse.ele.tue.nl/education/cluster2)\n",
    "\n",
    "O diferencial das CNNs está na camada de convolucional, que aplica a Convolução nos dados de entrada, passa os dados para realizar o Agrupamento (pooling) e sua saída é passada para a próxima camada convolucional até chegar na última camada conhecida como Camada Densa que é normalmente uma MultiLayer Perceptron (MLP).\n",
    "\n",
    "![Estrutura da CNN](imagens/EstruturaCNN.png)"
   ]
  },
  {
   "cell_type": "markdown",
   "metadata": {},
   "source": [
    "# Realizando a convolução"
   ]
  },
  {
   "cell_type": "code",
   "execution_count": 5,
   "metadata": {},
   "outputs": [
    {
     "name": "stdout",
     "output_type": "stream",
     "text": [
      "(0, array([[[  0.,   0.,   5.],\n",
      "        [  0.,   0.,  13.],\n",
      "        [  0.,   3.,  15.]],\n",
      "\n",
      "       [[  0.,   5.,  13.],\n",
      "        [  0.,  13.,  15.],\n",
      "        [  3.,  15.,   2.]],\n",
      "\n",
      "       [[  5.,  13.,   9.],\n",
      "        [ 13.,  15.,  10.],\n",
      "        [ 15.,   2.,   0.]],\n",
      "\n",
      "       [[ 13.,   9.,   1.],\n",
      "        [ 15.,  10.,  15.],\n",
      "        [  2.,   0.,  11.]],\n",
      "\n",
      "       [[  9.,   1.,   0.],\n",
      "        [ 10.,  15.,   5.],\n",
      "        [  0.,  11.,   8.]],\n",
      "\n",
      "       [[  0.,   0.,  13.],\n",
      "        [  0.,   3.,  15.],\n",
      "        [  0.,   4.,  12.]],\n",
      "\n",
      "       [[  0.,  13.,  15.],\n",
      "        [  3.,  15.,   2.],\n",
      "        [  4.,  12.,   0.]],\n",
      "\n",
      "       [[ 13.,  15.,  10.],\n",
      "        [ 15.,   2.,   0.],\n",
      "        [ 12.,   0.,   0.]],\n",
      "\n",
      "       [[ 15.,  10.,  15.],\n",
      "        [  2.,   0.,  11.],\n",
      "        [  0.,   0.,   8.]],\n",
      "\n",
      "       [[ 10.,  15.,   5.],\n",
      "        [  0.,  11.,   8.],\n",
      "        [  0.,   8.,   8.]],\n",
      "\n",
      "       [[  0.,   3.,  15.],\n",
      "        [  0.,   4.,  12.],\n",
      "        [  0.,   5.,   8.]],\n",
      "\n",
      "       [[  3.,  15.,   2.],\n",
      "        [  4.,  12.,   0.],\n",
      "        [  5.,   8.,   0.]],\n",
      "\n",
      "       [[ 15.,   2.,   0.],\n",
      "        [ 12.,   0.,   0.],\n",
      "        [  8.,   0.,   0.]],\n",
      "\n",
      "       [[  2.,   0.,  11.],\n",
      "        [  0.,   0.,   8.],\n",
      "        [  0.,   0.,   9.]],\n",
      "\n",
      "       [[  0.,  11.,   8.],\n",
      "        [  0.,   8.,   8.],\n",
      "        [  0.,   9.,   8.]],\n",
      "\n",
      "       [[  0.,   4.,  12.],\n",
      "        [  0.,   5.,   8.],\n",
      "        [  0.,   4.,  11.]],\n",
      "\n",
      "       [[  4.,  12.,   0.],\n",
      "        [  5.,   8.,   0.],\n",
      "        [  4.,  11.,   0.]],\n",
      "\n",
      "       [[ 12.,   0.,   0.],\n",
      "        [  8.,   0.,   0.],\n",
      "        [ 11.,   0.,   1.]],\n",
      "\n",
      "       [[  0.,   0.,   8.],\n",
      "        [  0.,   0.,   9.],\n",
      "        [  0.,   1.,  12.]],\n",
      "\n",
      "       [[  0.,   8.,   8.],\n",
      "        [  0.,   9.,   8.],\n",
      "        [  1.,  12.,   7.]],\n",
      "\n",
      "       [[  0.,   5.,   8.],\n",
      "        [  0.,   4.,  11.],\n",
      "        [  0.,   2.,  14.]],\n",
      "\n",
      "       [[  5.,   8.,   0.],\n",
      "        [  4.,  11.,   0.],\n",
      "        [  2.,  14.,   5.]],\n",
      "\n",
      "       [[  8.,   0.,   0.],\n",
      "        [ 11.,   0.,   1.],\n",
      "        [ 14.,   5.,  10.]],\n",
      "\n",
      "       [[  0.,   0.,   9.],\n",
      "        [  0.,   1.,  12.],\n",
      "        [  5.,  10.,  12.]],\n",
      "\n",
      "       [[  0.,   9.,   8.],\n",
      "        [  1.,  12.,   7.],\n",
      "        [ 10.,  12.,   0.]]]))\n"
     ]
    }
   ],
   "source": [
    "en = 8 # tamanho da dimensão da entrada\n",
    "kn = 3 # tamanho da dimensão do kernel\n",
    "k = 10 # quantidade de kernels\n",
    "qtdMatrizes = (en - kn) ** 2\n",
    "kernels = np.random.randn(k, kn, kn)\n",
    "\n",
    "# partesDigito = []\n",
    "# for i in range(0, en - kn):\n",
    "#     for j in range(0, en - kn):\n",
    "#         partesDigito.append(digits.data[0].reshape(en, en)[i:i+kn, j:j+kn])\n",
    "# #         print(i, j)\n",
    "# #         print(digits.data[0].reshape(en, en)[i:i+kn, j:j+kn])\n",
    "# print(len(partesDigito))\n",
    "# print(partesDigito)\n",
    "\n",
    "def partes(x):\n",
    "    partesDigito = []\n",
    "    entrada = np.zeros(((en - kn) ** 2, kn, kn))\n",
    "    X = x.reshape(en, en) # Muda a entrada vetorial para matriz\n",
    "    for ki in range(0, k): # Para cada kernel separa a entrada em partes\n",
    "        index = 0;\n",
    "        for i in range(0, en - kn): \n",
    "            for j in range(0, en - kn):\n",
    "                entrada[index] = X[i:i+kn, j:j+kn] # Cada parte é uma submatriz da entrada\n",
    "                index += 1\n",
    "        partesDigito.append((ki, entrada)) # Para cada kernel gera varias partes da entrada\n",
    "    return partesDigito\n",
    "\n",
    "partesDigito = partes(digits.data[0])\n",
    "print(partesDigito[0])"
   ]
  },
  {
   "cell_type": "code",
   "execution_count": 6,
   "metadata": {},
   "outputs": [
    {
     "name": "stdout",
     "output_type": "stream",
     "text": [
      "Número zero\n"
     ]
    },
    {
     "data": {
      "image/png": "[encoded data removed]",
      "text/plain": [
       "<matplotlib.figure.Figure at 0x10b20ec50>"
      ]
     },
     "metadata": {},
     "output_type": "display_data"
    },
    {
     "name": "stdout",
     "output_type": "stream",
     "text": [
      "Número zero dividido de acordo com o tamanho do kernel\n"
     ]
    },
    {
     "data": {
      "image/png": "[encoded data removed]",
      "text/plain": [
       "<matplotlib.figure.Figure at 0x10acc6668>"
      ]
     },
     "metadata": {},
     "output_type": "display_data"
    }
   ],
   "source": [
    "print(\"Número zero\")\n",
    "plt.figure(figsize=(20,4))\n",
    "for index, (image, label) in enumerate(zip(digits.data[0:1], digits.target[0:5])):\n",
    "  plt.subplot(1, 1, index + 1)\n",
    "  plt.imshow(np.reshape(image, (8,8)), cmap=plt.cm.gray)\n",
    "plt.show()\n",
    "\n",
    "print(\"Número zero dividido de acordo com o tamanho do kernel\")\n",
    "plt.figure(figsize=(20, 4)) \n",
    "for index, image in enumerate(partesDigito[0][1]):\n",
    "  plt.subplot(1, len(partesDigito[0][1]), index + 1)\n",
    "  plt.imshow(image, cmap=plt.cm.gray)\n",
    "plt.show()"
   ]
  },
  {
   "cell_type": "markdown",
   "metadata": {},
   "source": [
    "# Gerando o mapa de ativações"
   ]
  },
  {
   "cell_type": "code",
   "execution_count": 7,
   "metadata": {},
   "outputs": [
    {
     "name": "stdout",
     "output_type": "stream",
     "text": [
      "Mapa de ativações de um kernel\n",
      "[[ 0.99998564  0.99999983  0.99999518  1.          1.          0.99999839]\n",
      " [ 1.          0.99999999  1.          1.          0.99999951  0.99999995]\n",
      " [ 0.99991458  0.99997446  1.          0.99999991  0.99999982  0.98463398]\n",
      " [ 0.99995649  0.99999999  0.99999987  1.          0.99908467  0.99998074]\n",
      " [ 0.          0.          0.          0.          0.          0.        ]\n",
      " [ 0.          0.          0.          0.          0.          0.        ]]\n"
     ]
    }
   ],
   "source": [
    "import math\n",
    "\n",
    "def sigmoid(x):\n",
    "  return 1 / (1 + math.exp(-x))\n",
    "\n",
    "# t representa a dimensão de um mapa de ativação\n",
    "t = en - kn + 1\n",
    "\n",
    "# Aplica a função de ativação no resultado da multiplicação do kernel pela entrada\n",
    "# Recebe como entrada o kernel e uma matriz com as partes da entrada\n",
    "def ativacao(k, x):\n",
    "    mapa = np.zeros((t, t)) #Mapa de ativações de um kernel vazio\n",
    "    for i in range(0, len(x) - 1): #Para cada parte da matriz da entrada\n",
    "        mapa[int(i/t)][i%t] = sigmoid((x[i] * k).sum())\n",
    "    return mapa\n",
    "\n",
    "print(\"Mapa de ativações de um kernel\")\n",
    "print(ativacao(kernels[0], partesDigito[0][1]))\n",
    "\n",
    "# print(qtdMatrizes)\n",
    "# print(partesDigito[0])\n",
    "# print(len(partesDigito))\n",
    "# t = en - kn + 1\n",
    "# mapas = np.zeros((k, t, t))\n",
    "# for i in range(0, k):\n",
    "#     mapa = mapas[i]\n",
    "#     for j in range(0, qtdMatrizes - 1):\n",
    "#     #     print(int(i/t), i%t)\n",
    "#         mapa[int(j/t)][j%t] = sigmoid((partesDigito[j] * kernels[i]).sum())\n",
    "# print(mapas)"
   ]
  },
  {
   "cell_type": "code",
   "execution_count": 8,
   "metadata": {},
   "outputs": [
    {
     "name": "stdout",
     "output_type": "stream",
     "text": [
      "Mapas de ativações dos 10 kernels aplicados na entrada\n"
     ]
    },
    {
     "data": {
      "image/png": "[encoded data removed]",
      "text/plain": [
       "<matplotlib.figure.Figure at 0x10b887978>"
      ]
     },
     "metadata": {},
     "output_type": "display_data"
    }
   ],
   "source": [
    "mapas = np.zeros((k, t, t))\n",
    "\n",
    "for i in range(0, k):\n",
    "    mapas[i] = ativacao(kernels[partesDigito[i][0]], partesDigito[i][1])\n",
    "\n",
    "print(\"Mapas de ativações dos 10 kernels aplicados na entrada\")\n",
    "plt.figure(figsize=(20, 4))\n",
    "for index, image in enumerate(mapas):\n",
    "  plt.subplot(1, len(mapas), index + 1)\n",
    "  plt.imshow(image, cmap=plt.cm.gray)\n",
    "plt.show()"
   ]
  },
  {
   "cell_type": "markdown",
   "metadata": {},
   "source": [
    "# Realizando o agrupamento com max pooling"
   ]
  },
  {
   "cell_type": "code",
   "execution_count": 9,
   "metadata": {},
   "outputs": [
    {
     "name": "stdout",
     "output_type": "stream",
     "text": [
      "[[ 1.          1.          1.        ]\n",
      " [ 0.99999999  1.          0.99999982]\n",
      " [ 0.          0.          0.        ]]\n"
     ]
    }
   ],
   "source": [
    "pn = 2 # tamanho do pooling\n",
    "ps = 2 # tamanho do passo do pooling\n",
    "\n",
    "# Max Pooling\n",
    "def maxPooling(x):\n",
    "    agrupado = np.zeros((int(t / pn), int(t / pn)))\n",
    "    for i in range(0, int(t / pn)):\n",
    "        for j in range(0, int(t / pn)):\n",
    "            agrupado[i][j] = x[i * pn : i * pn + kn - 1, j * pn : j * pn + kn - 1].max()\n",
    "    return agrupado\n",
    "\n",
    "pooling = []\n",
    "for i in range(0, len(mapas)):\n",
    "    pooling.append(maxPooling(mapas[i]))\n",
    "    \n",
    "print(pooling[0])"
   ]
  },
  {
   "cell_type": "markdown",
   "metadata": {},
   "source": [
    "# Criando a camada densa com Multilayer Perceptron"
   ]
  },
  {
   "cell_type": "code",
   "execution_count": 10,
   "metadata": {},
   "outputs": [
    {
     "name": "stdout",
     "output_type": "stream",
     "text": [
      "[0.9905615314189834, 0.19411646750793624, 0.23374639691801555, 0.0013178209873578775, 0.9962387957245186, 0.995195310457966, 0.30593798834976, 0.00019971281366965891, 0.09477953690247157, 0.9998809666387077]\n"
     ]
    }
   ],
   "source": [
    "# weights representa os pesos da camada densa (MLP), aqui ainda falta fazer o backpropagation para ajustar esses pesos.\n",
    "weights = np.random.randn(10, 90)\n",
    "\n",
    "# Multilayer Perceptron\n",
    "def mlp(x):\n",
    "    # A saída corresponde a probabilidade que a entrada tem de ser cada um dos dez números.\n",
    "    saida = []\n",
    "    for w in weights:\n",
    "        # Basicamente adiciona na ordem as probabilidades de \n",
    "        saida.append(sigmoid((w * x).sum()))\n",
    "    return saida\n",
    "\n",
    "print (mlp(np.asarray(pooling).ravel()))"
   ]
  },
  {
   "cell_type": "markdown",
   "metadata": {},
   "source": [
    "# Montando a Rede Neural Convolucional com o MapReduce"
   ]
  },
  {
   "cell_type": "code",
   "execution_count": 12,
   "metadata": {},
   "outputs": [
    {
     "name": "stdout",
     "output_type": "stream",
     "text": [
      "[[0.2303787084411721, 0.2099451726892583, 0.06508030989360919, 0.1055256000866959, 0.9971740047740627, 0.09117066280446567, 0.9999356557510007, 1.3844127613072241e-05, 0.8562682290831856, 0.38278995757093703]]\n",
      "Dado o digito fornecido na entrada, esta saída representa a probabilidade de ser cada um dos números entre zero e nove. TODO - Implementar o backprogation.\n"
     ]
    }
   ],
   "source": [
    "sc = SparkContext.getOrCreate()\n",
    "# Montando um RDD com todo dataset de digitos\n",
    "rdd = sc.parallelize(digits.data, 4)\n",
    "# print(rdd.take(1))\n",
    "\n",
    "# Cria uma matriz com os kernels (filtros) da primeira camada convolucional\n",
    "kernels1 = np.random.randn(k, kn, kn)\n",
    "\n",
    "print(rdd\n",
    "      # 1º convolucao\n",
    "      .map(lambda x: partes(x)) # Separa as 25 partes da imagem para cada um dos 10 kernels\n",
    "      .map(lambda x: list(map(lambda y: ativacao(kernels1[y[0]], y[1]), x))) # Gera o mapa de ativações de cada kernel\n",
    "      .map(lambda x: list(map(lambda y: maxPooling(y), x))) # Aplica o max pooling na primeira camada\n",
    "      # Camada Densa (MLP)\n",
    "      .map(lambda x: np.asarray(x).ravel()) # Converte a matriz de saída da camada convolucional para um vetor \n",
    "      .map(lambda x: mlp(x)) # Manda os dados da última camada convolucional agrupada para o MLP\n",
    "      .take(1))\n",
    "\n",
    "print(\"Dado o digito fornecido na entrada, esta saída representa a probabilidade de ser cada um dos números entre zero e nove. TODO - Implementar o backprogation.\")\n",
    "# rdd = rdd.map(lambda x: partes(x)).map(lambda x: list(map(lambda y: ativacao(kernels1[y[0]], y[1]), x))).map(lambda x: list(map(lambda y: maxPooling(y), x))).map(lambda x: np.asarray(x).ravel()).map(lambda x: mlp(x))\n",
    "# print(rdd.take(1))"
   ]
  },
  {
   "cell_type": "code",
   "execution_count": null,
   "metadata": {
    "collapsed": true
   },
   "outputs": [],
   "source": []
  }
 ],
 "metadata": {
  "kernelspec": {
   "display_name": "Python 3",
   "language": "python",
   "name": "python3"
  },
  "language_info": {
   "codemirror_mode": {
    "name": "ipython",
    "version": 3
   },
   "file_extension": ".py",
   "mimetype": "text/x-python",
   "name": "python",
   "nbconvert_exporter": "python",
   "pygments_lexer": "ipython3",
   "version": "3.6.3"
  }
 },
 "nbformat": 4,
 "nbformat_minor": 2
}
